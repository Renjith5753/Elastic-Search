{
 "cells": [
  {
   "cell_type": "code",
   "execution_count": 1,
   "id": "16b5c66b",
   "metadata": {},
   "outputs": [],
   "source": [
    "#importing the required libraries\n",
    "\n",
    "import sys\n",
    "import os\n",
    "import json,gzip\n",
    "from pprint import pprint\n",
    "from elasticsearch import Elasticsearch,helpers\n"
   ]
  },
  {
   "cell_type": "code",
   "execution_count": 2,
   "id": "f0e551a7",
   "metadata": {},
   "outputs": [
    {
     "data": {
      "text/plain": [
       "True"
      ]
     },
     "execution_count": 2,
     "metadata": {},
     "output_type": "execute_result"
    }
   ],
   "source": [
    "# Elastic search configuation\n",
    "\n",
    "es = Elasticsearch(\"http://localhost:9200\")\n",
    "\n",
    "# checking whether the connection is established\n",
    "\n",
    "es.ping()"
   ]
  },
  {
   "cell_type": "code",
   "execution_count": 4,
   "id": "cba3071e",
   "metadata": {},
   "outputs": [
    {
     "name": "stdout",
     "output_type": "stream",
     "text": [
      "finished upload\n"
     ]
    }
   ],
   "source": [
    "#opening the file and store it in the data variable.\n",
    "\n",
    "data = open(r\"C:\\Users\\renji\\Downloads\\iris data set\\sample-1M.jsonl\")\n",
    "\n",
    "#using a for loop to iterate over each line \n",
    "\n",
    "for each_line in data:\n",
    "    each_line = each_line.replace(\"\\n\", \"\")\n",
    "    doc = {\"data\": json.loads(each_line)}\n",
    "    \n",
    "#indexing the document using Elastic search index function\n",
    "\n",
    "    es.index(index='articles1', doc_type='_doc', body=doc)  \n",
    "    \n",
    "print('finished upload')"
   ]
  },
  {
   "cell_type": "markdown",
   "id": "1a7ef5a6",
   "metadata": {},
   "source": [
    "# Elasticsearch Code"
   ]
  },
  {
   "cell_type": "markdown",
   "id": "b8722b90",
   "metadata": {},
   "source": [
    "pyhton is used till indexing ,  Dev Tool is used to do rest tasks.\n",
    "Codes corresponding to each task is shown below. It will work in the Dev Tool Console."
   ]
  },
  {
   "cell_type": "code",
   "execution_count": null,
   "id": "41da4b0b",
   "metadata": {},
   "outputs": [],
   "source": [
    "    \n",
    "#issue: Elasticsearch can't update non dynamic settings: close the index and update again\n",
    "#closing an index\n",
    "POST /articles/_close\n",
    "\n",
    "#Tokenization and Case folding \n",
    "\n",
    "PUT articles/_settings\n",
    "{\n",
    "  \"analysis\" : {\n",
    "    \"analyzer\":{\n",
    "      \"my_analyzer\":{\n",
    "        \"tokenizer\":\"whitespace\",\n",
    "           \"filter\": [\"lowercase\",\"asciifolding\",\"word_delimiter\"\n",
    "            ]\n",
    "      }\n",
    "    }\n",
    "  }\n",
    "}\n",
    "\n",
    "#test string\n",
    "\n",
    "POST articles/_analyze\n",
    "{\n",
    "  \"analyzer\": \"my_analyzer\",\n",
    "  \"text\": \"The IÀNS India-Private+ Limited\"\n",
    "}\n",
    "\n"
   ]
  },
  {
   "cell_type": "code",
   "execution_count": null,
   "id": "2cc8df03",
   "metadata": {},
   "outputs": [],
   "source": [
    "#Selecting Keywords \n",
    "\n",
    "#stop word removal using \"stop token filter\"\n",
    "\n",
    "\n",
    "PUT articles/_settings\n",
    "{\n",
    "  \"analysis\" : {\n",
    "    \"analyzer\":{\n",
    "      \"my_analyzer\":{\n",
    "        \"tokenizer\":\"whitespace\",\n",
    "           \"filter\": [\"lowercase\",\"asciifolding\",\"word_delimiter\",\"stop\"\n",
    "            ]\n",
    "      }\n",
    "    }\n",
    "  }\n",
    "}\n",
    "\n",
    "#test string\n",
    "\n",
    "POST articles/_analyze\n",
    "{\n",
    "  \"analyzer\": \"my_analyzer\",\n",
    "  \"text\": \"The IÀNS India-Private+ Limited\"\n",
    "}\n",
    "\n"
   ]
  },
  {
   "cell_type": "code",
   "execution_count": null,
   "id": "39c26080",
   "metadata": {},
   "outputs": [],
   "source": [
    "#N-gram Tokenizer:\n",
    "\n",
    "#creating custom tokenizer for N gram called \"my_tokenizer\"\n",
    "\n",
    "PUT articles/_settings\n",
    "{\n",
    "  \"settings\": {\n",
    "    \"analysis\": {\n",
    "      \"analyzer\": {\n",
    "        \"my_analyzer\": {\n",
    "          \"tokenizer\": \"my_tokenizer\",\n",
    "           \"filter\": [\"lowercase\",\"asciifolding\",\"word_delimiter\",\"stop\"\n",
    "            ]\n",
    "        }\n",
    "      },\n",
    "      \"tokenizer\": {\n",
    "        \"my_tokenizer\": {\n",
    "          \"type\": \"ngram\",\n",
    "          \"min_gram\": 3,\n",
    "          \"max_gram\": 3,\n",
    "          \"token_chars\": [\n",
    "            \"letter\",\n",
    "            \"digit\"\n",
    "          ]\n",
    "        }\n",
    "      }\n",
    "    }\n",
    "  }\n",
    "}\n",
    "\n",
    "#test string\n",
    "\n",
    "POST articles/_analyze\n",
    "{\n",
    "  \"analyzer\": \"my_analyzer\",\n",
    "  \"text\": \"The IÀNS India-Private+ Limited\"\n",
    "}\n"
   ]
  },
  {
   "cell_type": "code",
   "execution_count": null,
   "id": "1055ca5d",
   "metadata": {},
   "outputs": [],
   "source": [
    "#TF-IDF Score  using similarity module:\n",
    "\n",
    "PUT /articles/_settings\n",
    "{\n",
    "      \"similarity\": {\n",
    "          \"default\" : {\n",
    "            \"type\" : \"BM25\",\n",
    "            \"b\": 0.75,\n",
    "            \"k1\": 1.2\n",
    "          }\n",
    "        }\n",
    "      }\n",
    "    }\n",
    "  }\n",
    "}"
   ]
  },
  {
   "cell_type": "code",
   "execution_count": null,
   "id": "6264ca4b",
   "metadata": {},
   "outputs": [],
   "source": [
    "#stemmimg :\n",
    "\n",
    "PUT /articles/_settings\n",
    "{\n",
    "  \"settings\": {\n",
    "    \"analysis\": {\n",
    "      \"analyzer\": {\n",
    "        \"my_analyzer2\": {\n",
    "          \"tokenizer\": \"whitespace\",\n",
    "          \"filter\": [\n",
    "            \"lowercase\",\n",
    "            \"kstem\"\n",
    "          ]\n",
    "        }\n",
    "      }\n",
    "    }\n",
    "  }\n",
    "}"
   ]
  },
  {
   "cell_type": "markdown",
   "id": "914d3c39",
   "metadata": {},
   "source": [
    "## Searching"
   ]
  },
  {
   "cell_type": "code",
   "execution_count": null,
   "id": "83938152",
   "metadata": {},
   "outputs": [],
   "source": [
    "\n",
    "\n",
    "#1.\tFind the articles published  in  a particular date:\n",
    "\n",
    "GET articles/_search\n",
    "{\n",
    "    \"query\": {\n",
    "      \n",
    "        \"range\" : {\n",
    "            \"data.published\": {\n",
    "                \"gte\" : \"2015-09-29\"\n",
    "            }\n",
    "        }\n",
    "    }\n",
    "}"
   ]
  },
  {
   "cell_type": "code",
   "execution_count": null,
   "id": "7dacd3fb",
   "metadata": {},
   "outputs": [],
   "source": [
    "#2.Find an article published in a specific date and source.\n",
    "\n",
    "POST articles/_search\n",
    "{\n",
    "  \"query\": {\n",
    "    \"bool\": {\n",
    "      \"must\": [\n",
    "        {\n",
    "          \"match\": {\n",
    "            \"data.source\": \"yahoo sports\"\n",
    "          }\n",
    "        },\n",
    "        {\n",
    "          \"range\": {\n",
    "            \"data.published\": {\n",
    "              \"gte\": \"2015-09-01\"\n",
    "            }\n",
    "          }\n",
    "        }\n",
    "      ]\n",
    "    }\n",
    "  }\n",
    "}"
   ]
  },
  {
   "cell_type": "code",
   "execution_count": null,
   "id": "e561068a",
   "metadata": {},
   "outputs": [],
   "source": [
    "#3.Find the articles related to a particular content and published in a specific date and source.\n",
    "\n",
    "POST articles/_search\n",
    "{\n",
    "    \"query\": {\n",
    "        \"bool\": {\n",
    "            \"must\": [\n",
    "              {\n",
    "                \"bool\": {\n",
    "                    \"should\": [{\n",
    "                        \"match\": {\n",
    "                            \"data.title\": \"Randy Moss  boot camp \"\n",
    "                        }\n",
    "                    }\n",
    "                    ]\n",
    "                }\n",
    "            }, \n",
    "            {\n",
    "                \"bool\": {\n",
    "                    \"should\": [\n",
    "                      {\n",
    "                        \"match\": {\n",
    "                            \"data.source\": \"yahoo sports\"\n",
    "                        }\n",
    "                    }\n",
    "                    ]\n",
    "                }\n",
    "            }, {\n",
    "                \"bool\": {\n",
    "                    \"must\": [\n",
    "                      {\n",
    "                        \"range\": {\n",
    "                          \"data.published\": {\n",
    "                            \"gte\": \"2015-09-28\"\n",
    "                          }\n",
    "                        }\n",
    "                      }\n",
    "                      ]\n",
    "                }\n",
    "            }]\n",
    "        }\n",
    "    }\n",
    "}\n"
   ]
  }
 ],
 "metadata": {
  "kernelspec": {
   "display_name": "Python 3 (ipykernel)",
   "language": "python",
   "name": "python3"
  },
  "language_info": {
   "codemirror_mode": {
    "name": "ipython",
    "version": 3
   },
   "file_extension": ".py",
   "mimetype": "text/x-python",
   "name": "python",
   "nbconvert_exporter": "python",
   "pygments_lexer": "ipython3",
   "version": "3.9.7"
  }
 },
 "nbformat": 4,
 "nbformat_minor": 5
}
